{
 "cells": [
  {
   "cell_type": "code",
   "execution_count": 1,
   "metadata": {},
   "outputs": [],
   "source": [
    "list_ = open(\"pubchem.txt\").read().split()"
   ]
  },
  {
   "cell_type": "code",
   "execution_count": 2,
   "metadata": {},
   "outputs": [
    {
     "data": {
      "text/plain": [
       "list"
      ]
     },
     "execution_count": 2,
     "metadata": {},
     "output_type": "execute_result"
    }
   ],
   "source": [
    "type(list_)"
   ]
  },
  {
   "cell_type": "code",
   "execution_count": 3,
   "metadata": {},
   "outputs": [
    {
     "data": {
      "text/plain": [
       "200"
      ]
     },
     "execution_count": 3,
     "metadata": {},
     "output_type": "execute_result"
    }
   ],
   "source": [
    "len(list_)"
   ]
  },
  {
   "cell_type": "code",
   "execution_count": 4,
   "metadata": {},
   "outputs": [],
   "source": [
    "indice=list_[0:200:2] "
   ]
  },
  {
   "cell_type": "code",
   "execution_count": 5,
   "metadata": {},
   "outputs": [
    {
     "data": {
      "text/plain": [
       "['134695375',\n",
       " '129878031',\n",
       " '127048546',\n",
       " '127048545',\n",
       " '118707521',\n",
       " '91820057',\n",
       " '90659182',\n",
       " '88537798',\n",
       " '76325328',\n",
       " '67974531',\n",
       " '57376616',\n",
       " '57339292',\n",
       " '57339290',\n",
       " '54758653',\n",
       " '54758613',\n",
       " '52948856',\n",
       " '52944904',\n",
       " '52944903',\n",
       " '51351654',\n",
       " '49859685',\n",
       " '49802606',\n",
       " '46174147',\n",
       " '45934204',\n",
       " '45933887',\n",
       " '45357367',\n",
       " '45266822',\n",
       " '45266741',\n",
       " '44630437',\n",
       " '44341508',\n",
       " '44229083',\n",
       " '44119773',\n",
       " '42612215',\n",
       " '25243963',\n",
       " '25243937',\n",
       " '24847493',\n",
       " '24779679',\n",
       " '22833605',\n",
       " '16738680',\n",
       " '12917651',\n",
       " '12600646',\n",
       " '12302999',\n",
       " '11908605',\n",
       " '11096158',\n",
       " '9816401',\n",
       " '7067772',\n",
       " '6971258',\n",
       " '6713972',\n",
       " '6420074',\n",
       " '6323218',\n",
       " '5462244',\n",
       " '5317448',\n",
       " '5284365',\n",
       " '4282259',\n",
       " '3052142',\n",
       " '2801971',\n",
       " '2733787',\n",
       " '2733335',\n",
       " '644170',\n",
       " '449462',\n",
       " '448882',\n",
       " '447448',\n",
       " '446101',\n",
       " '445621',\n",
       " '441477',\n",
       " '441038',\n",
       " '440552',\n",
       " '440271',\n",
       " '440235',\n",
       " '440049',\n",
       " '439281',\n",
       " '439213',\n",
       " '439174',\n",
       " '433580',\n",
       " '408523',\n",
       " '312829',\n",
       " '254124',\n",
       " '202260',\n",
       " '198515',\n",
       " '198514',\n",
       " '193108',\n",
       " '129618',\n",
       " '127132',\n",
       " '122253',\n",
       " '118328',\n",
       " '112106',\n",
       " '102416',\n",
       " '99461',\n",
       " '96523',\n",
       " '90220',\n",
       " '84265',\n",
       " '82398',\n",
       " '82313',\n",
       " '35717',\n",
       " '29327',\n",
       " '24154',\n",
       " '24139',\n",
       " '18897',\n",
       " '5300',\n",
       " '899',\n",
       " '739']"
      ]
     },
     "execution_count": 5,
     "metadata": {},
     "output_type": "execute_result"
    }
   ],
   "source": [
    "indice"
   ]
  },
  {
   "cell_type": "code",
   "execution_count": 7,
   "metadata": {},
   "outputs": [],
   "source": [
    "smails=list_[1::2] "
   ]
  },
  {
   "cell_type": "code",
   "execution_count": 8,
   "metadata": {},
   "outputs": [],
   "source": [
    "c = zip(smails,indice)"
   ]
  },
  {
   "cell_type": "code",
   "execution_count": 9,
   "metadata": {},
   "outputs": [],
   "source": [
    "d = [x for t in c for x in t] "
   ]
  },
  {
   "cell_type": "code",
   "execution_count": 10,
   "metadata": {},
   "outputs": [
    {
     "data": {
      "text/plain": [
       "['CN(C(=O)N[C@@H]1[C@H](C(C(O[C@@H]1O)CO)O)O)N=O',\n",
       " '134695375',\n",
       " '[2H]CCCC(=O)N[C@H]1[C@H]([C@@H]([C@H](OC1O)CO)O)O',\n",
       " '129878031',\n",
       " 'C1=CC(=CC=C1C#N)C2=CC(=CC(=C2)C(F)(F)F)C(=O)N[C@@H]3[C@H]([C@@H]([C@H](OC3O)CO)O)O',\n",
       " '127048546',\n",
       " 'C1=CC=C(C=C1)C2=CC(=CC=C2)C(=O)N[C@@H]3[C@H]([C@@H]([C@H](OC3O)CO)O)O',\n",
       " '127048545',\n",
       " 'CN1C(=C(N=C1C2=CN(N=N2)[C@@H]3[C@H]([C@@H]([C@H](O[C@H]3O)CO)O)O)C4=CC=C(C=C4)F)C5=CC=NC=C5',\n",
       " '118707521',\n",
       " 'CC(=O)N[C@@H]1[C@H]([C@H]([C@H](OC1O)COS(=O)(=O)[O-])O)O',\n",
       " '91820057',\n",
       " 'CC(=O)N[C@H]1[C@H]([C@@H]([C@H](O[C@@H]1O)CO)OC(=O)C)O',\n",
       " '90659182',\n",
       " 'C1=C(C=C(C=C1[N+](=O)[O-])[N+](=O)[O-])C(=O)N[C@@H]2[C@H]([C@@H]([C@H](OC2O)CO)O)O',\n",
       " '88537798',\n",
       " 'CN1C(=C(N=C1C2=CN(N=N2)[C@@H]3[C@H]([C@@H]([C@H](OC3O)CO)O)O)C4=CC=C(C=C4)F)C5=CC=NC=C5',\n",
       " '76325328',\n",
       " 'C1=CC(=C(C=C1/C=C/C(=O)N[C@@H]2[C@H]([C@@H]([C@H](OC2O)CO)O)O)Cl)Cl',\n",
       " '67974531',\n",
       " 'CC(=O)N[C@H]1[C@H]([C@H]([C@H](OC1O)CO)O)O',\n",
       " '57376616',\n",
       " 'C([C@@H]1[C@H]([C@@H]([C@H]([C@H](O1)O[C@@H](CC(=O)[O-])C(=O)[O-])[NH3+])O)O)O',\n",
       " '57339292',\n",
       " 'CC(=O)N[C@@H]1[C@H]([C@@H]([C@H](O[C@@H]1O[C@@H](CC(=O)[O-])C(=O)[O-])CO)O)O',\n",
       " '57339290',\n",
       " 'CC(=O)N[C@H]1[C@H]([C@@H]([C@H](OC1O)COP(=O)([O-])[O-])O)O',\n",
       " '54758653',\n",
       " 'CC(=O)N[C@@H]1[C@H]([C@H]([C@H](O[C@H]1O)COS(=O)(=O)[O-])O)O',\n",
       " '54758613',\n",
       " 'COC[C@@H]1[C@H](C([C@H](C(O1)OCCC2=CC=CC=C2)NCCCN)OCC3=CC4=CC=CC=C4C=C3)O',\n",
       " '52948856',\n",
       " 'COC[C@@H]1[C@H](C([C@H](C(O1)OCCC2=CC=CC=C2)NCCN)OCC3=CC4=CC=CC=C4C=C3)O',\n",
       " '52944904',\n",
       " 'COC[C@@H]1[C@H](C([C@H](C(O1)OCC2=CC3=CC=CC=C3C=C2)NCCN)OCC4=CC=CC=C4)O',\n",
       " '52944903',\n",
       " 'C([C@@H]1[C@H]([C@@H]([C@H](C(O1)O)NS(=O)(=O)[O-])O)O)O',\n",
       " '51351654',\n",
       " 'CC(=O)N[C@@H]1[C@H]([C@H]([C@H](O[C@@H]1OP(=O)([O-])[O-])CO)O)O',\n",
       " '49859685',\n",
       " 'C([C@@H]1[C@@H]([C@@H]([C@H](C(O1)O)NC(=O)C(F)(F)F)O)O)O',\n",
       " '49802606',\n",
       " 'CC(=O)N[C@@H]1[C@H]([C@@H]([C@H](O[C@@H]1OC(=O)N)CO)O)O',\n",
       " '46174147',\n",
       " 'CC(C(=O)O)O[C@@H]1[C@H]([C@@H](O[C@@H]([C@H]1O)CO)O)NC(=O)C',\n",
       " '45934204',\n",
       " 'C([C@H]1[C@@H]([C@H]([C@@H](C(O1)O)N)O)O)O',\n",
       " '45933887',\n",
       " 'CN(C(=O)NC1[C@H]([C@@H]([C@H](O[C@H]1O)CO)O)O)N=O',\n",
       " '45357367',\n",
       " 'CC(=O)N[C@@H]1[C@H]([C@H]([C@H](OC1O)COP(=O)(O)OCC[N+](C)(C)C)O)O',\n",
       " '45266822',\n",
       " 'C([C@@H]1[C@H]([C@@H]([C@H](C(O1)O)[NH3+])O)O)O',\n",
       " '45266741',\n",
       " 'CCC(=O)N[C@@H]1[C@H]([C@@H]([C@H](OC1O)CO)O)O',\n",
       " '44630437',\n",
       " 'CC(=O)NC1C(C(C(OC1OC2=CC3=C(C=C2)C=C(C=C3)OC)CO)O)O',\n",
       " '44341508',\n",
       " 'CC(=O)N[C@@H]1[C@H]([C@H]([C@H](OC1O)COP(=O)([O-])[O-])O)O',\n",
       " '44229083',\n",
       " 'CC(=O)N[C@H]1[C@H]([C@H](C(O[C@@H]1O)CO)O)O',\n",
       " '44119773',\n",
       " 'C([C@@H]1[C@H]([C@@H]([C@@H](C(O1)O)NC(=O)CN=[N+]=[N-])O)O)O',\n",
       " '42612215',\n",
       " 'CC(=O)N[C@@H]1[C@H]([C@@H]([C@H](OC1O)COP(=O)([O-])[O-])O)O',\n",
       " '25243963',\n",
       " 'CC(=O)N[C@@H]1[C@H]([C@@H]([C@H](O[C@@H]1OP(=O)([O-])[O-])CO)O)O',\n",
       " '25243937',\n",
       " 'C(CCl)N(C(=O)N[C@H]1[C@@H]([C@H]([C@@H](OC1O)CO)O)O)N=O',\n",
       " '24847493',\n",
       " 'CCCNC(=O)O[C@@H]1[C@@H]([C@H]([C@@H]([C@H](O1)CO)O)O)NC(=O)C',\n",
       " '24779679',\n",
       " 'C[C@H](C(=O)O)O[C@H]1[C@H]([C@@H](O[C@@H]([C@H]1O)CO)O)N',\n",
       " '22833605',\n",
       " 'C[C@H](C(=O)[O-])O[C@H]1[C@@H]([C@H](OC([C@@H]1NC(=O)C)O)CO)O',\n",
       " '16738680',\n",
       " 'C[C@H](C(=O)O)O[C@@H]1[C@H]([C@@H](O[C@@H]([C@H]1O)CO)O)NC(=O)C',\n",
       " '12917651',\n",
       " 'C(CCl)N(C(=O)N[C@@H]1[C@H]([C@@H]([C@H](OC1O)CO)O)O)N=O',\n",
       " '12600646',\n",
       " 'C([C@@H]1[C@H]([C@@H]([C@@H]([C@H](O1)O)N)O)O)O',\n",
       " '12302999',\n",
       " 'CC(=O)N[C@H]1[C@@H]([C@@H]([C@H](O[C@H]1O)CO)O)O',\n",
       " '11908605',\n",
       " 'CC(=O)N[C@H]1[C@H]([C@@H]([C@H](O[C@H]1O)CO)O)O',\n",
       " '11096158',\n",
       " 'C[C@H](C(=O)O)O[C@@H]1[C@H]([C@H](O[C@@H]([C@H]1O)CO)O)N',\n",
       " '9816401',\n",
       " 'CN(C(=O)N[C@@H]1[C@H]([C@@H]([C@H](O[C@H]1O)CO)O)O)N=O',\n",
       " '7067772',\n",
       " 'CC(=O)N[C@@H]1[C@@H]([C@H]([C@H](O[C@@H]1O)CO)O)O',\n",
       " '6971258',\n",
       " 'CN(C(=O)NC1[C@@H]([C@@H](C(O[C@@H]1O)CO)O)O)N=O',\n",
       " '6713972',\n",
       " 'CN(C(=O)N[C@H]1[C@@H]([C@@H](C(OC1O)CO)O)O)N=O',\n",
       " '6420074',\n",
       " 'C[C@H](C(=O)O)O[C@@H]1[C@H]([C@H](O[C@@H]([C@H]1O)CO)O)NC(=O)C',\n",
       " '6323218',\n",
       " 'C[C@H](C(=O)O)O[C@H]1[C@@H]([C@H](OC([C@@H]1NC(=O)C)O)CO)O',\n",
       " '5462244',\n",
       " 'C([C@@H]1[C@@H]([C@@H]([C@H]([C@H](O1)O)N)O)O)O',\n",
       " '5317448',\n",
       " 'C(CCl)N(C(=O)N[C@@H]1[C@H]([C@@H]([C@H](O[C@@H]1O)CO)O)O)N=O',\n",
       " '5284365',\n",
       " 'CC(=O)NC1C(C(C(OC1OC2=CC=CC=C2)CO)O)O',\n",
       " '4282259',\n",
       " 'CC(=O)OC[C@@H]1[C@@H]([C@@H]([C@H]([C@@H](O1)OC(=O)C)NC(=O)CCl)OC(=O)C)OC(=O)C',\n",
       " '3052142',\n",
       " 'CC(=O)N[C@@H]1[C@H]([C@@H]([C@H](O[C@@H]1OCC2=CC=CC=C2)CO)O)O',\n",
       " '2801971',\n",
       " 'CC1=CC(=O)OC2=C1C=CC(=C2)O[C@H]3[C@@H]([C@H]([C@@H]([C@H](O3)CO)O)O)NC(=O)C',\n",
       " '2733787',\n",
       " 'CN(C(=O)N[C@@H]1[C@H]([C@@H]([C@H](OC1O)CO)O)O)N=O',\n",
       " '2733335',\n",
       " 'CC(=O)N[C@H]1[C@H]([C@@H]([C@H](O[C@@H]1O)CO)O)O',\n",
       " '644170',\n",
       " 'C([C@@H]1[C@@H]([C@@H]([C@H]([C@@H](O1)O)N)O)O)O',\n",
       " '449462',\n",
       " 'CC(=O)N[C@@H]1[C@H]([C@H]([C@H](O[C@@H]1OC)CO)O)O',\n",
       " '448882',\n",
       " 'CCCC(=O)N[C@@H]1[C@H]([C@@H]([C@H](O[C@H]1O)CO)O)O',\n",
       " '447448',\n",
       " 'CC(=O)N[C@@H]1[C@H]([C@H]([C@H](O[C@H]1O)CO)OS(=O)(=O)O)O',\n",
       " '446101',\n",
       " 'C([C@@H]1[C@H]([C@@H]([C@H]([C@H](O1)O)N)O)O)O',\n",
       " '445621',\n",
       " 'C([C@@H]1[C@H]([C@@H]([C@H]([C@@H](O1)O)N)O)O)O',\n",
       " '441477',\n",
       " 'C[C@H](C(=O)O)O[C@H]1[C@@H]([C@H](OC([C@@H]1N)O)CO)O',\n",
       " '441038',\n",
       " 'CC(=O)N[C@@H]1[C@H]([C@H]([C@H](O[C@H]1O)CO)O)O',\n",
       " '440552',\n",
       " 'CC(=O)N[C@@H]1[C@H]([C@H]([C@H](O[C@H]1O)COS(=O)(=O)O)O)O',\n",
       " '440271',\n",
       " 'CC(=O)N[C@@H]1[C@H]([C@@H]([C@H](O[C@H]1O)COS(=O)(=O)O)O)O',\n",
       " '440235',\n",
       " 'C([C@@H]1[C@H]([C@@H]([C@@H](C(O1)O)N)O)O)O',\n",
       " '440049',\n",
       " 'CC(=O)N[C@H]1[C@H]([C@@H]([C@H](OC1O)CO)O)O',\n",
       " '439281',\n",
       " 'C([C@@H]1[C@H]([C@@H]([C@H](C(O1)O)N)O)O)O',\n",
       " '439213',\n",
       " 'CC(=O)N[C@@H]1[C@H]([C@@H]([C@H](OC1O)CO)O)O',\n",
       " '439174',\n",
       " 'CC(C(=O)O)OC1C(C(OC(C1O)CO)O)N',\n",
       " '433580',\n",
       " 'CC(=O)OCC1C(C(C(C(O1)OC(=O)C)N)OC(=O)C)OC(=O)C',\n",
       " '408523',\n",
       " 'CC(=O)NC1C(C(C(OC1OC(=O)C)COC(=O)C)OC(=O)C)OC(=O)C',\n",
       " '312829',\n",
       " 'CC(=O)NC1C(C(C(OC1OC)CO)O)O',\n",
       " '254124',\n",
       " 'CC(=O)OC[C@@H]1[C@H]([C@@H]([C@H]([C@@H](O1)OC(=O)C)N)OC(=O)C)OC(=O)C',\n",
       " '202260',\n",
       " 'CC(=O)OC[C@@H]1[C@@H]([C@@H]([C@H]([C@@H](O1)OC(=O)C)NC(=O)CBr)OC(=O)C)OC(=O)C',\n",
       " '198515',\n",
       " 'CC(=O)OC[C@@H]1[C@H]([C@@H]([C@H]([C@@H](O1)OC(=O)C)NC(=O)CBr)OC(=O)C)OC(=O)C',\n",
       " '198514',\n",
       " 'C([C@@H]1[C@@H]([C@@H]([C@H]([C@@H](O1)O)NC(=O)CBr)O)O)O',\n",
       " '193108',\n",
       " 'CC(=O)OC[C@@H]1[C@H]([C@@H]([C@H]([C@@H](O1)OC(=O)C)NC(=O)CCl)OC(=O)C)OC(=O)C',\n",
       " '129618',\n",
       " 'CC(=O)N[C@H]1[C@H]([C@@H]([C@H](OC1OC(=O)C)COC(=O)C)OC(=O)C)OC(=O)C',\n",
       " '127132',\n",
       " 'CC(=O)N[C@@H]1[C@H]([C@H]([C@H](O[C@@H]1OCC2=CC=CC=C2)CO)O)O',\n",
       " '122253',\n",
       " 'CC1=CC(=O)OC2=C1C=CC(=C2)OC3C(C(C(C(O3)CO)O)O)NC(=O)C',\n",
       " '118328',\n",
       " 'CC(=O)N[C@@H]1[C@H]([C@@H]([C@H](O[C@H]1OC2=CC=CC3=CC=CC=C32)CO)O)O',\n",
       " '112106',\n",
       " 'CC(=O)N[C@@H]1[C@H]([C@@H]([C@H](O[C@H]1OC2=CC=C(C=C2)[N+](=O)[O-])CO)O)O',\n",
       " '102416',\n",
       " 'CC(=O)N[C@@H]1[C@H]([C@@H]([C@H](O[C@H]1OC(=O)C)COC(=O)C)OC(=O)C)OC(=O)C',\n",
       " '99461',\n",
       " 'CC(=O)N[C@@H]1[C@H]([C@@H]([C@H](O[C@@H]1OC)CO)O)O',\n",
       " '96523',\n",
       " 'CC(=O)N[C@@H]1[C@H]([C@H]([C@H](O[C@@H]1OC2=CC=C(C=C2)[N+](=O)[O-])CO)O)O',\n",
       " '90220',\n",
       " 'CC(=O)N[C@@H]1[C@H]([C@H]([C@H](O[C@@H]1O)CO)O)O',\n",
       " '84265',\n",
       " 'CC(=O)N[C@@H]1[C@H]([C@@H]([C@H](O[C@@H]1OC2=CC=C(C=C2)[N+](=O)[O-])CO)O)O',\n",
       " '82398',\n",
       " 'CC(=O)N[C@@H]1[C@H]([C@@H]([C@H](O[C@@H]1O)CO)O)O',\n",
       " '82313',\n",
       " 'CC(=O)N[C@@H]1[C@H]([C@H]([C@H](OC1O)CO)O)O',\n",
       " '35717',\n",
       " 'CN(C(=O)N[C@@H]1[C@H]([C@@H]([C@H](O[C@@H]1O)CO)O)O)N=O',\n",
       " '29327',\n",
       " 'C([C@@H]1[C@@H]([C@@H]([C@H](C(O1)O)N)O)O)O',\n",
       " '24154',\n",
       " 'CC(=O)N[C@@H]1[C@H]([C@@H]([C@H](O[C@H]1O)CO)O)O',\n",
       " '24139',\n",
       " 'C(C1[C@@H](C(C([C@H](O1)O)N)O)O)O',\n",
       " '18897',\n",
       " 'CN(C(=O)NC1C(C(C(OC1O)CO)O)O)N=O',\n",
       " '5300',\n",
       " 'CC(=O)NC1C(C(C(OC1O)CO)O)O',\n",
       " '899',\n",
       " 'C(C1C(C(C(C(O1)O)N)O)O)O',\n",
       " '739']"
      ]
     },
     "execution_count": 10,
     "metadata": {},
     "output_type": "execute_result"
    }
   ],
   "source": [
    "d"
   ]
  },
  {
   "cell_type": "code",
   "execution_count": 12,
   "metadata": {},
   "outputs": [],
   "source": [
    "with open('pubchemfinal.txt', 'w') as f:\n",
    "    for item in d:\n",
    "        f.write(\"%s\\n\" % item)"
   ]
  },
  {
   "cell_type": "code",
   "execution_count": 14,
   "metadata": {},
   "outputs": [],
   "source": [
    "def convert_list_to_string(org_list, seperator=' '):\n",
    "    \"\"\" Convert list to string, by joining all item in list with given separator.\n",
    "        Returns the concatenated string \"\"\"\n",
    "    return seperator.join(org_list)"
   ]
  },
  {
   "cell_type": "code",
   "execution_count": 15,
   "metadata": {},
   "outputs": [],
   "source": [
    "full_str = convert_list_to_string(d)"
   ]
  },
  {
   "cell_type": "code",
   "execution_count": 16,
   "metadata": {},
   "outputs": [
    {
     "data": {
      "text/plain": [
       "'CN(C(=O)N[C@@H]1[C@H](C(C(O[C@@H]1O)CO)O)O)N=O 134695375 [2H]CCCC(=O)N[C@H]1[C@H]([C@@H]([C@H](OC1O)CO)O)O 129878031 C1=CC(=CC=C1C#N)C2=CC(=CC(=C2)C(F)(F)F)C(=O)N[C@@H]3[C@H]([C@@H]([C@H](OC3O)CO)O)O 127048546 C1=CC=C(C=C1)C2=CC(=CC=C2)C(=O)N[C@@H]3[C@H]([C@@H]([C@H](OC3O)CO)O)O 127048545 CN1C(=C(N=C1C2=CN(N=N2)[C@@H]3[C@H]([C@@H]([C@H](O[C@H]3O)CO)O)O)C4=CC=C(C=C4)F)C5=CC=NC=C5 118707521 CC(=O)N[C@@H]1[C@H]([C@H]([C@H](OC1O)COS(=O)(=O)[O-])O)O 91820057 CC(=O)N[C@H]1[C@H]([C@@H]([C@H](O[C@@H]1O)CO)OC(=O)C)O 90659182 C1=C(C=C(C=C1[N+](=O)[O-])[N+](=O)[O-])C(=O)N[C@@H]2[C@H]([C@@H]([C@H](OC2O)CO)O)O 88537798 CN1C(=C(N=C1C2=CN(N=N2)[C@@H]3[C@H]([C@@H]([C@H](OC3O)CO)O)O)C4=CC=C(C=C4)F)C5=CC=NC=C5 76325328 C1=CC(=C(C=C1/C=C/C(=O)N[C@@H]2[C@H]([C@@H]([C@H](OC2O)CO)O)O)Cl)Cl 67974531 CC(=O)N[C@H]1[C@H]([C@H]([C@H](OC1O)CO)O)O 57376616 C([C@@H]1[C@H]([C@@H]([C@H]([C@H](O1)O[C@@H](CC(=O)[O-])C(=O)[O-])[NH3+])O)O)O 57339292 CC(=O)N[C@@H]1[C@H]([C@@H]([C@H](O[C@@H]1O[C@@H](CC(=O)[O-])C(=O)[O-])CO)O)O 57339290 CC(=O)N[C@H]1[C@H]([C@@H]([C@H](OC1O)COP(=O)([O-])[O-])O)O 54758653 CC(=O)N[C@@H]1[C@H]([C@H]([C@H](O[C@H]1O)COS(=O)(=O)[O-])O)O 54758613 COC[C@@H]1[C@H](C([C@H](C(O1)OCCC2=CC=CC=C2)NCCCN)OCC3=CC4=CC=CC=C4C=C3)O 52948856 COC[C@@H]1[C@H](C([C@H](C(O1)OCCC2=CC=CC=C2)NCCN)OCC3=CC4=CC=CC=C4C=C3)O 52944904 COC[C@@H]1[C@H](C([C@H](C(O1)OCC2=CC3=CC=CC=C3C=C2)NCCN)OCC4=CC=CC=C4)O 52944903 C([C@@H]1[C@H]([C@@H]([C@H](C(O1)O)NS(=O)(=O)[O-])O)O)O 51351654 CC(=O)N[C@@H]1[C@H]([C@H]([C@H](O[C@@H]1OP(=O)([O-])[O-])CO)O)O 49859685 C([C@@H]1[C@@H]([C@@H]([C@H](C(O1)O)NC(=O)C(F)(F)F)O)O)O 49802606 CC(=O)N[C@@H]1[C@H]([C@@H]([C@H](O[C@@H]1OC(=O)N)CO)O)O 46174147 CC(C(=O)O)O[C@@H]1[C@H]([C@@H](O[C@@H]([C@H]1O)CO)O)NC(=O)C 45934204 C([C@H]1[C@@H]([C@H]([C@@H](C(O1)O)N)O)O)O 45933887 CN(C(=O)NC1[C@H]([C@@H]([C@H](O[C@H]1O)CO)O)O)N=O 45357367 CC(=O)N[C@@H]1[C@H]([C@H]([C@H](OC1O)COP(=O)(O)OCC[N+](C)(C)C)O)O 45266822 C([C@@H]1[C@H]([C@@H]([C@H](C(O1)O)[NH3+])O)O)O 45266741 CCC(=O)N[C@@H]1[C@H]([C@@H]([C@H](OC1O)CO)O)O 44630437 CC(=O)NC1C(C(C(OC1OC2=CC3=C(C=C2)C=C(C=C3)OC)CO)O)O 44341508 CC(=O)N[C@@H]1[C@H]([C@H]([C@H](OC1O)COP(=O)([O-])[O-])O)O 44229083 CC(=O)N[C@H]1[C@H]([C@H](C(O[C@@H]1O)CO)O)O 44119773 C([C@@H]1[C@H]([C@@H]([C@@H](C(O1)O)NC(=O)CN=[N+]=[N-])O)O)O 42612215 CC(=O)N[C@@H]1[C@H]([C@@H]([C@H](OC1O)COP(=O)([O-])[O-])O)O 25243963 CC(=O)N[C@@H]1[C@H]([C@@H]([C@H](O[C@@H]1OP(=O)([O-])[O-])CO)O)O 25243937 C(CCl)N(C(=O)N[C@H]1[C@@H]([C@H]([C@@H](OC1O)CO)O)O)N=O 24847493 CCCNC(=O)O[C@@H]1[C@@H]([C@H]([C@@H]([C@H](O1)CO)O)O)NC(=O)C 24779679 C[C@H](C(=O)O)O[C@H]1[C@H]([C@@H](O[C@@H]([C@H]1O)CO)O)N 22833605 C[C@H](C(=O)[O-])O[C@H]1[C@@H]([C@H](OC([C@@H]1NC(=O)C)O)CO)O 16738680 C[C@H](C(=O)O)O[C@@H]1[C@H]([C@@H](O[C@@H]([C@H]1O)CO)O)NC(=O)C 12917651 C(CCl)N(C(=O)N[C@@H]1[C@H]([C@@H]([C@H](OC1O)CO)O)O)N=O 12600646 C([C@@H]1[C@H]([C@@H]([C@@H]([C@H](O1)O)N)O)O)O 12302999 CC(=O)N[C@H]1[C@@H]([C@@H]([C@H](O[C@H]1O)CO)O)O 11908605 CC(=O)N[C@H]1[C@H]([C@@H]([C@H](O[C@H]1O)CO)O)O 11096158 C[C@H](C(=O)O)O[C@@H]1[C@H]([C@H](O[C@@H]([C@H]1O)CO)O)N 9816401 CN(C(=O)N[C@@H]1[C@H]([C@@H]([C@H](O[C@H]1O)CO)O)O)N=O 7067772 CC(=O)N[C@@H]1[C@@H]([C@H]([C@H](O[C@@H]1O)CO)O)O 6971258 CN(C(=O)NC1[C@@H]([C@@H](C(O[C@@H]1O)CO)O)O)N=O 6713972 CN(C(=O)N[C@H]1[C@@H]([C@@H](C(OC1O)CO)O)O)N=O 6420074 C[C@H](C(=O)O)O[C@@H]1[C@H]([C@H](O[C@@H]([C@H]1O)CO)O)NC(=O)C 6323218 C[C@H](C(=O)O)O[C@H]1[C@@H]([C@H](OC([C@@H]1NC(=O)C)O)CO)O 5462244 C([C@@H]1[C@@H]([C@@H]([C@H]([C@H](O1)O)N)O)O)O 5317448 C(CCl)N(C(=O)N[C@@H]1[C@H]([C@@H]([C@H](O[C@@H]1O)CO)O)O)N=O 5284365 CC(=O)NC1C(C(C(OC1OC2=CC=CC=C2)CO)O)O 4282259 CC(=O)OC[C@@H]1[C@@H]([C@@H]([C@H]([C@@H](O1)OC(=O)C)NC(=O)CCl)OC(=O)C)OC(=O)C 3052142 CC(=O)N[C@@H]1[C@H]([C@@H]([C@H](O[C@@H]1OCC2=CC=CC=C2)CO)O)O 2801971 CC1=CC(=O)OC2=C1C=CC(=C2)O[C@H]3[C@@H]([C@H]([C@@H]([C@H](O3)CO)O)O)NC(=O)C 2733787 CN(C(=O)N[C@@H]1[C@H]([C@@H]([C@H](OC1O)CO)O)O)N=O 2733335 CC(=O)N[C@H]1[C@H]([C@@H]([C@H](O[C@@H]1O)CO)O)O 644170 C([C@@H]1[C@@H]([C@@H]([C@H]([C@@H](O1)O)N)O)O)O 449462 CC(=O)N[C@@H]1[C@H]([C@H]([C@H](O[C@@H]1OC)CO)O)O 448882 CCCC(=O)N[C@@H]1[C@H]([C@@H]([C@H](O[C@H]1O)CO)O)O 447448 CC(=O)N[C@@H]1[C@H]([C@H]([C@H](O[C@H]1O)CO)OS(=O)(=O)O)O 446101 C([C@@H]1[C@H]([C@@H]([C@H]([C@H](O1)O)N)O)O)O 445621 C([C@@H]1[C@H]([C@@H]([C@H]([C@@H](O1)O)N)O)O)O 441477 C[C@H](C(=O)O)O[C@H]1[C@@H]([C@H](OC([C@@H]1N)O)CO)O 441038 CC(=O)N[C@@H]1[C@H]([C@H]([C@H](O[C@H]1O)CO)O)O 440552 CC(=O)N[C@@H]1[C@H]([C@H]([C@H](O[C@H]1O)COS(=O)(=O)O)O)O 440271 CC(=O)N[C@@H]1[C@H]([C@@H]([C@H](O[C@H]1O)COS(=O)(=O)O)O)O 440235 C([C@@H]1[C@H]([C@@H]([C@@H](C(O1)O)N)O)O)O 440049 CC(=O)N[C@H]1[C@H]([C@@H]([C@H](OC1O)CO)O)O 439281 C([C@@H]1[C@H]([C@@H]([C@H](C(O1)O)N)O)O)O 439213 CC(=O)N[C@@H]1[C@H]([C@@H]([C@H](OC1O)CO)O)O 439174 CC(C(=O)O)OC1C(C(OC(C1O)CO)O)N 433580 CC(=O)OCC1C(C(C(C(O1)OC(=O)C)N)OC(=O)C)OC(=O)C 408523 CC(=O)NC1C(C(C(OC1OC(=O)C)COC(=O)C)OC(=O)C)OC(=O)C 312829 CC(=O)NC1C(C(C(OC1OC)CO)O)O 254124 CC(=O)OC[C@@H]1[C@H]([C@@H]([C@H]([C@@H](O1)OC(=O)C)N)OC(=O)C)OC(=O)C 202260 CC(=O)OC[C@@H]1[C@@H]([C@@H]([C@H]([C@@H](O1)OC(=O)C)NC(=O)CBr)OC(=O)C)OC(=O)C 198515 CC(=O)OC[C@@H]1[C@H]([C@@H]([C@H]([C@@H](O1)OC(=O)C)NC(=O)CBr)OC(=O)C)OC(=O)C 198514 C([C@@H]1[C@@H]([C@@H]([C@H]([C@@H](O1)O)NC(=O)CBr)O)O)O 193108 CC(=O)OC[C@@H]1[C@H]([C@@H]([C@H]([C@@H](O1)OC(=O)C)NC(=O)CCl)OC(=O)C)OC(=O)C 129618 CC(=O)N[C@H]1[C@H]([C@@H]([C@H](OC1OC(=O)C)COC(=O)C)OC(=O)C)OC(=O)C 127132 CC(=O)N[C@@H]1[C@H]([C@H]([C@H](O[C@@H]1OCC2=CC=CC=C2)CO)O)O 122253 CC1=CC(=O)OC2=C1C=CC(=C2)OC3C(C(C(C(O3)CO)O)O)NC(=O)C 118328 CC(=O)N[C@@H]1[C@H]([C@@H]([C@H](O[C@H]1OC2=CC=CC3=CC=CC=C32)CO)O)O 112106 CC(=O)N[C@@H]1[C@H]([C@@H]([C@H](O[C@H]1OC2=CC=C(C=C2)[N+](=O)[O-])CO)O)O 102416 CC(=O)N[C@@H]1[C@H]([C@@H]([C@H](O[C@H]1OC(=O)C)COC(=O)C)OC(=O)C)OC(=O)C 99461 CC(=O)N[C@@H]1[C@H]([C@@H]([C@H](O[C@@H]1OC)CO)O)O 96523 CC(=O)N[C@@H]1[C@H]([C@H]([C@H](O[C@@H]1OC2=CC=C(C=C2)[N+](=O)[O-])CO)O)O 90220 CC(=O)N[C@@H]1[C@H]([C@H]([C@H](O[C@@H]1O)CO)O)O 84265 CC(=O)N[C@@H]1[C@H]([C@@H]([C@H](O[C@@H]1OC2=CC=C(C=C2)[N+](=O)[O-])CO)O)O 82398 CC(=O)N[C@@H]1[C@H]([C@@H]([C@H](O[C@@H]1O)CO)O)O 82313 CC(=O)N[C@@H]1[C@H]([C@H]([C@H](OC1O)CO)O)O 35717 CN(C(=O)N[C@@H]1[C@H]([C@@H]([C@H](O[C@@H]1O)CO)O)O)N=O 29327 C([C@@H]1[C@@H]([C@@H]([C@H](C(O1)O)N)O)O)O 24154 CC(=O)N[C@@H]1[C@H]([C@@H]([C@H](O[C@H]1O)CO)O)O 24139 C(C1[C@@H](C(C([C@H](O1)O)N)O)O)O 18897 CN(C(=O)NC1C(C(C(OC1O)CO)O)O)N=O 5300 CC(=O)NC1C(C(C(OC1O)CO)O)O 899 C(C1C(C(C(C(O1)O)N)O)O)O 739'"
      ]
     },
     "execution_count": 16,
     "metadata": {},
     "output_type": "execute_result"
    }
   ],
   "source": [
    "full_str"
   ]
  },
  {
   "cell_type": "code",
   "execution_count": 18,
   "metadata": {},
   "outputs": [],
   "source": [
    "with open('test.txt', 'w+') as fh:\n",
    "    fh.write(full_str)"
   ]
  }
 ],
 "metadata": {
  "kernelspec": {
   "display_name": "Python 3",
   "language": "python",
   "name": "python3"
  },
  "language_info": {
   "codemirror_mode": {
    "name": "ipython",
    "version": 3
   },
   "file_extension": ".py",
   "mimetype": "text/x-python",
   "name": "python",
   "nbconvert_exporter": "python",
   "pygments_lexer": "ipython3",
   "version": "3.6.11"
  }
 },
 "nbformat": 4,
 "nbformat_minor": 4
}
